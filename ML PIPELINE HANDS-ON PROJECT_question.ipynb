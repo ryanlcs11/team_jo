{
 "cells": [
  {
   "cell_type": "markdown",
   "id": "3182a14e",
   "metadata": {},
   "source": [
    "# ML PIPELINE HANDS-ON PROJECT\n",
    "\n",
    "GROUP NAME <br>\n",
    "GROUP MEMBER NAME: "
   ]
  },
  {
   "cell_type": "markdown",
   "id": "c77b3a80",
   "metadata": {},
   "source": [
    "## Section 1: Conduct simple data exploration and data analysis on the given dataset"
   ]
  },
  {
   "cell_type": "markdown",
   "id": "f88d5195",
   "metadata": {},
   "source": [
    "### 1)Display the number of attributes available in the dataset (exam_dataset.csv)?"
   ]
  },
  {
   "cell_type": "code",
   "execution_count": 1,
   "id": "af01ad7a",
   "metadata": {},
   "outputs": [
    {
     "data": {
      "text/html": [
       "<div>\n",
       "<style scoped>\n",
       "    .dataframe tbody tr th:only-of-type {\n",
       "        vertical-align: middle;\n",
       "    }\n",
       "\n",
       "    .dataframe tbody tr th {\n",
       "        vertical-align: top;\n",
       "    }\n",
       "\n",
       "    .dataframe thead th {\n",
       "        text-align: right;\n",
       "    }\n",
       "</style>\n",
       "<table border=\"1\" class=\"dataframe\">\n",
       "  <thead>\n",
       "    <tr style=\"text-align: right;\">\n",
       "      <th></th>\n",
       "      <th>Age</th>\n",
       "      <th>BusinessTravel</th>\n",
       "      <th>MonthlyIncome</th>\n",
       "      <th>JobSatisfaction</th>\n",
       "      <th>Bonus</th>\n",
       "      <th>Department</th>\n",
       "      <th>DistanceFromHome</th>\n",
       "      <th>Education</th>\n",
       "      <th>EducationField</th>\n",
       "      <th>EmployeeCount</th>\n",
       "      <th>...</th>\n",
       "      <th>JobRole</th>\n",
       "      <th>MaritalStatus</th>\n",
       "      <th>PerformanceRating</th>\n",
       "      <th>StockOptionLevel</th>\n",
       "      <th>TrainingTimesLastYear</th>\n",
       "      <th>WorkLifeBalance</th>\n",
       "      <th>YearsAtCompany</th>\n",
       "      <th>YearsSinceLastPromotion</th>\n",
       "      <th>OverTime</th>\n",
       "      <th>Attrition</th>\n",
       "    </tr>\n",
       "  </thead>\n",
       "  <tbody>\n",
       "    <tr>\n",
       "      <th>0</th>\n",
       "      <td>41</td>\n",
       "      <td>Travel_Rarely</td>\n",
       "      <td>5993</td>\n",
       "      <td>4</td>\n",
       "      <td>17979</td>\n",
       "      <td>Sales</td>\n",
       "      <td>1</td>\n",
       "      <td>2</td>\n",
       "      <td>Life Sciences</td>\n",
       "      <td>1</td>\n",
       "      <td>...</td>\n",
       "      <td>Sales Executive</td>\n",
       "      <td>Single</td>\n",
       "      <td>3</td>\n",
       "      <td>0</td>\n",
       "      <td>0</td>\n",
       "      <td>1</td>\n",
       "      <td>6</td>\n",
       "      <td>0</td>\n",
       "      <td>Yes</td>\n",
       "      <td>Yes</td>\n",
       "    </tr>\n",
       "    <tr>\n",
       "      <th>1</th>\n",
       "      <td>49</td>\n",
       "      <td>Travel_Frequently</td>\n",
       "      <td>5130</td>\n",
       "      <td>2</td>\n",
       "      <td>20520</td>\n",
       "      <td>Research &amp; Development</td>\n",
       "      <td>8</td>\n",
       "      <td>1</td>\n",
       "      <td>Life Sciences</td>\n",
       "      <td>1</td>\n",
       "      <td>...</td>\n",
       "      <td>Research Scientist</td>\n",
       "      <td>Married</td>\n",
       "      <td>4</td>\n",
       "      <td>1</td>\n",
       "      <td>3</td>\n",
       "      <td>3</td>\n",
       "      <td>10</td>\n",
       "      <td>1</td>\n",
       "      <td>No</td>\n",
       "      <td>No</td>\n",
       "    </tr>\n",
       "    <tr>\n",
       "      <th>2</th>\n",
       "      <td>37</td>\n",
       "      <td>Travel_Rarely</td>\n",
       "      <td>2090</td>\n",
       "      <td>3</td>\n",
       "      <td>6270</td>\n",
       "      <td>Research &amp; Development</td>\n",
       "      <td>2</td>\n",
       "      <td>2</td>\n",
       "      <td>Other</td>\n",
       "      <td>1</td>\n",
       "      <td>...</td>\n",
       "      <td>Laboratory Technician</td>\n",
       "      <td>Single</td>\n",
       "      <td>3</td>\n",
       "      <td>0</td>\n",
       "      <td>3</td>\n",
       "      <td>3</td>\n",
       "      <td>0</td>\n",
       "      <td>0</td>\n",
       "      <td>Yes</td>\n",
       "      <td>Yes</td>\n",
       "    </tr>\n",
       "    <tr>\n",
       "      <th>3</th>\n",
       "      <td>33</td>\n",
       "      <td>Travel_Frequently</td>\n",
       "      <td>2909</td>\n",
       "      <td>3</td>\n",
       "      <td>8727</td>\n",
       "      <td>Research &amp; Development</td>\n",
       "      <td>3</td>\n",
       "      <td>4</td>\n",
       "      <td>Life Sciences</td>\n",
       "      <td>1</td>\n",
       "      <td>...</td>\n",
       "      <td>Research Scientist</td>\n",
       "      <td>Married</td>\n",
       "      <td>3</td>\n",
       "      <td>0</td>\n",
       "      <td>3</td>\n",
       "      <td>3</td>\n",
       "      <td>8</td>\n",
       "      <td>3</td>\n",
       "      <td>Yes</td>\n",
       "      <td>No</td>\n",
       "    </tr>\n",
       "    <tr>\n",
       "      <th>4</th>\n",
       "      <td>27</td>\n",
       "      <td>Travel_Rarely</td>\n",
       "      <td>3468</td>\n",
       "      <td>2</td>\n",
       "      <td>10404</td>\n",
       "      <td>Research &amp; Development</td>\n",
       "      <td>2</td>\n",
       "      <td>1</td>\n",
       "      <td>Medical</td>\n",
       "      <td>1</td>\n",
       "      <td>...</td>\n",
       "      <td>Laboratory Technician</td>\n",
       "      <td>Married</td>\n",
       "      <td>3</td>\n",
       "      <td>1</td>\n",
       "      <td>3</td>\n",
       "      <td>3</td>\n",
       "      <td>2</td>\n",
       "      <td>2</td>\n",
       "      <td>No</td>\n",
       "      <td>No</td>\n",
       "    </tr>\n",
       "  </tbody>\n",
       "</table>\n",
       "<p>5 rows × 24 columns</p>\n",
       "</div>"
      ],
      "text/plain": [
       "   Age     BusinessTravel  MonthlyIncome  JobSatisfaction  Bonus  \\\n",
       "0   41      Travel_Rarely           5993                4  17979   \n",
       "1   49  Travel_Frequently           5130                2  20520   \n",
       "2   37      Travel_Rarely           2090                3   6270   \n",
       "3   33  Travel_Frequently           2909                3   8727   \n",
       "4   27      Travel_Rarely           3468                2  10404   \n",
       "\n",
       "               Department  DistanceFromHome  Education EducationField  \\\n",
       "0                   Sales                 1          2  Life Sciences   \n",
       "1  Research & Development                 8          1  Life Sciences   \n",
       "2  Research & Development                 2          2          Other   \n",
       "3  Research & Development                 3          4  Life Sciences   \n",
       "4  Research & Development                 2          1        Medical   \n",
       "\n",
       "   EmployeeCount  ...                JobRole  MaritalStatus PerformanceRating  \\\n",
       "0              1  ...        Sales Executive         Single                 3   \n",
       "1              1  ...     Research Scientist        Married                 4   \n",
       "2              1  ...  Laboratory Technician         Single                 3   \n",
       "3              1  ...     Research Scientist        Married                 3   \n",
       "4              1  ...  Laboratory Technician        Married                 3   \n",
       "\n",
       "   StockOptionLevel TrainingTimesLastYear WorkLifeBalance  YearsAtCompany  \\\n",
       "0                 0                     0               1               6   \n",
       "1                 1                     3               3              10   \n",
       "2                 0                     3               3               0   \n",
       "3                 0                     3               3               8   \n",
       "4                 1                     3               3               2   \n",
       "\n",
       "   YearsSinceLastPromotion  OverTime  Attrition  \n",
       "0                        0       Yes        Yes  \n",
       "1                        1        No         No  \n",
       "2                        0       Yes        Yes  \n",
       "3                        3       Yes         No  \n",
       "4                        2        No         No  \n",
       "\n",
       "[5 rows x 24 columns]"
      ]
     },
     "execution_count": 1,
     "metadata": {},
     "output_type": "execute_result"
    }
   ],
   "source": [
    "import pandas as pd\n",
    "\n",
    "df = pd.read_csv('exam_dataset_PROJECT.csv')\n",
    "df.head(5)"
   ]
  },
  {
   "cell_type": "code",
   "execution_count": 2,
   "id": "4b93977d",
   "metadata": {},
   "outputs": [
    {
     "name": "stdout",
     "output_type": "stream",
     "text": [
      "<class 'pandas.core.frame.DataFrame'>\n",
      "RangeIndex: 1470 entries, 0 to 1469\n",
      "Data columns (total 24 columns):\n",
      " #   Column                   Non-Null Count  Dtype \n",
      "---  ------                   --------------  ----- \n",
      " 0   Age                      1470 non-null   int64 \n",
      " 1   BusinessTravel           1470 non-null   object\n",
      " 2   MonthlyIncome            1470 non-null   int64 \n",
      " 3   JobSatisfaction          1470 non-null   int64 \n",
      " 4   Bonus                    1470 non-null   int64 \n",
      " 5   Department               1470 non-null   object\n",
      " 6   DistanceFromHome         1470 non-null   int64 \n",
      " 7   Education                1470 non-null   int64 \n",
      " 8   EducationField           1470 non-null   object\n",
      " 9   EmployeeCount            1470 non-null   int64 \n",
      " 10  EmployeeNumber           1470 non-null   int64 \n",
      " 11  EnvironmentSatisfaction  1470 non-null   int64 \n",
      " 12  Gender                   1470 non-null   object\n",
      " 13  JobLevel                 1470 non-null   int64 \n",
      " 14  JobRole                  1470 non-null   object\n",
      " 15  MaritalStatus            1470 non-null   object\n",
      " 16  PerformanceRating        1470 non-null   int64 \n",
      " 17  StockOptionLevel         1470 non-null   int64 \n",
      " 18  TrainingTimesLastYear    1470 non-null   int64 \n",
      " 19  WorkLifeBalance          1470 non-null   int64 \n",
      " 20  YearsAtCompany           1470 non-null   int64 \n",
      " 21  YearsSinceLastPromotion  1470 non-null   int64 \n",
      " 22  OverTime                 1470 non-null   object\n",
      " 23  Attrition                1470 non-null   object\n",
      "dtypes: int64(16), object(8)\n",
      "memory usage: 275.8+ KB\n"
     ]
    }
   ],
   "source": [
    "df.info()"
   ]
  },
  {
   "cell_type": "markdown",
   "id": "cba171fe",
   "metadata": {},
   "source": [
    "## 2)Find the dimension number of your dataset"
   ]
  },
  {
   "cell_type": "code",
   "execution_count": 8,
   "id": "f29b1d73",
   "metadata": {},
   "outputs": [
    {
     "data": {
      "text/plain": [
       "(1470, 24)"
      ]
     },
     "execution_count": 8,
     "metadata": {},
     "output_type": "execute_result"
    }
   ],
   "source": [
    "df.shape"
   ]
  },
  {
   "cell_type": "markdown",
   "id": "5c93bd21",
   "metadata": {},
   "source": [
    "### 3) Display the average of these attributes: ‘Age’, ‘Bonus’ and ‘Years atCompany’. Be sure to round your answer to 4 decimal places"
   ]
  },
  {
   "cell_type": "code",
   "execution_count": 14,
   "id": "006d8a4f",
   "metadata": {},
   "outputs": [
    {
     "name": "stdout",
     "output_type": "stream",
     "text": [
      "Average Age: 36.9238\n",
      "Average Bonus: 20479.5014\n",
      "Average Year at Company: 7.0082\n"
     ]
    }
   ],
   "source": [
    "Average_Age = df['Age'].mean()\n",
    "Average_Bonus = df['Bonus'].mean()\n",
    "Average_Years = df['YearsAtCompany'].mean()\n",
    "\n",
    "print(f\"Average Age: {round(Average_Age,4)}\")\n",
    "print(f\"Average Bonus: {round(Average_Bonus,4)}\")\n",
    "print(f\"Average Year at Company: {round(Average_Years,4)}\")"
   ]
  },
  {
   "cell_type": "markdown",
   "id": "0ced0ae4",
   "metadata": {},
   "source": [
    "### 4) Find the minimum and maximum ‘Bonus’"
   ]
  },
  {
   "cell_type": "code",
   "execution_count": 3,
   "id": "b1e104d3",
   "metadata": {},
   "outputs": [
    {
     "name": "stdout",
     "output_type": "stream",
     "text": [
      "Bonus=> Min: 3027, Max: 79892\n"
     ]
    }
   ],
   "source": [
    "minimum_bonus = df['Bonus'].min()\n",
    "maximum_bonus = df['Bonus'].max()\n",
    "\n",
    "print(f\"Bonus=> Min: {minimum_bonus}, Max: {maximum_bonus}\")"
   ]
  },
  {
   "cell_type": "markdown",
   "id": "66847c61",
   "metadata": {},
   "source": [
    "### 5) What are the departments in this dataset?"
   ]
  },
  {
   "cell_type": "code",
   "execution_count": 4,
   "id": "b7dcddbe",
   "metadata": {},
   "outputs": [
    {
     "ename": "SyntaxError",
     "evalue": "invalid syntax (4249771173.py, line 1)",
     "output_type": "error",
     "traceback": [
      "\u001b[1;36m  Cell \u001b[1;32mIn[4], line 1\u001b[1;36m\u001b[0m\n\u001b[1;33m    df['Department'].\u001b[0m\n\u001b[1;37m                     ^\u001b[0m\n\u001b[1;31mSyntaxError\u001b[0m\u001b[1;31m:\u001b[0m invalid syntax\n"
     ]
    }
   ],
   "source": [
    "df['Department']."
   ]
  },
  {
   "cell_type": "markdown",
   "id": "7701ea6e",
   "metadata": {},
   "source": [
    "### 6) Provide graphical visualization by plotting Histogram of ‘JobSatisfaction’ vs staff numbers’"
   ]
  },
  {
   "cell_type": "markdown",
   "id": "3ff2ef67",
   "metadata": {},
   "source": [
    "### 7.Find the correlation between ‘Bonus’ and ‘JobSatisfaction’"
   ]
  },
  {
   "cell_type": "markdown",
   "id": "9748e25f",
   "metadata": {},
   "source": [
    "### 8.Based on your findings, discuss briefly (you can either use comments/markdown to write your answer) on:"
   ]
  },
  {
   "cell_type": "markdown",
   "id": "bfa27906",
   "metadata": {},
   "source": [
    "- **Range of bonus at Company A** <br>\n",
    "    . <br>\n",
    "\n",
    "\n",
    "- **Most and Least Frequent JobSatisfaction at Company A** <br>\n",
    "   .   <br>\n",
    " \n",
    "\n",
    "- **Discuss your observation on the distribution of bonus values** <br>\n",
    "     <br>\n",
    "\n",
    "\n",
    "- **Is there a linear relationship between bonus and JobSatisfaction at the company??**<br>\n",
    "   ."
   ]
  },
  {
   "cell_type": "markdown",
   "id": "95589139",
   "metadata": {},
   "source": [
    "## B) Classification using Random Forest for: ‘Age’, ‘BusinessTravel’, ‘MonthlyIncome’ and ‘JobSatisfaction’ to predict ‘Attrition’. Sample steps are as below:”"
   ]
  },
  {
   "cell_type": "markdown",
   "id": "f9c3c0cf",
   "metadata": {},
   "source": [
    "### 1) Import necessary libraries"
   ]
  },
  {
   "cell_type": "markdown",
   "id": "82d4a79b",
   "metadata": {},
   "source": [
    "### 2) Import dataset"
   ]
  },
  {
   "cell_type": "markdown",
   "id": "699a86b7",
   "metadata": {},
   "source": [
    "### 3) Allocate the relevant attributes as input and output"
   ]
  },
  {
   "cell_type": "markdown",
   "id": "687c9851",
   "metadata": {},
   "source": [
    "### 4) Use LabelEncoder to encode categorical data"
   ]
  },
  {
   "cell_type": "markdown",
   "id": "5d4ac857",
   "metadata": {},
   "source": [
    "### 5) Split your data into training and test sets with the appropriate proportions"
   ]
  },
  {
   "cell_type": "markdown",
   "id": "de536859",
   "metadata": {},
   "source": [
    "### 6) Normalized your data using StandardScaler"
   ]
  },
  {
   "cell_type": "markdown",
   "id": "cf62f394",
   "metadata": {},
   "source": [
    "### 7) Fit the and predict results using the Naïve Bayes Classifier"
   ]
  },
  {
   "cell_type": "markdown",
   "id": "5c9a2674",
   "metadata": {},
   "source": [
    "### 8) Evaluate your results using confusion matrix and calculate the prediction accuracy"
   ]
  },
  {
   "cell_type": "markdown",
   "id": "a6e699a0",
   "metadata": {},
   "source": [
    "### 9) Discuss your results and findings"
   ]
  },
  {
   "cell_type": "markdown",
   "id": "1e360ed5",
   "metadata": {},
   "source": [
    "- our main concern is to find the classification of attrition rate by considering the Age,BusinessTravel  MonthlyIncome and JobSatisfaction. \n",
    "- Our **independent** variables `Age`, `BusinessTravel`, `MonthlyIncome` and `JobSatisfaction`\n",
    "- Our **dependent** variable: `Attrition`\n",
    "- One of the attributes which is `Business Travel` consist of categorical data. Thus we encode the attribute before applying the model.\n",
    "- Using Random Forest Classifier model, we used 80% of the observations (train set) and fit in our model. While the remaining 20% are used to test the accuracy of the model.\n",
    "- The model has 79.93197278911565% accuracy.\n"
   ]
  },
  {
   "cell_type": "markdown",
   "id": "1fef9d8f",
   "metadata": {},
   "source": [
    "## Section 3 : Clustering comparison between K-Means and DBSCAN"
   ]
  },
  {
   "cell_type": "markdown",
   "id": "439d097b",
   "metadata": {},
   "source": [
    "## A) Perform K-Means clustering (use WCSS to help find best K value) on the givendataset, display clustering results with graphical visualization, provide any necessarycomments and discussions."
   ]
  },
  {
   "cell_type": "markdown",
   "id": "2d35c6f7",
   "metadata": {},
   "source": [
    "### 1) Import necessary libraries"
   ]
  },
  {
   "cell_type": "markdown",
   "id": "1143f90a",
   "metadata": {},
   "source": [
    "### 2) Import dataset"
   ]
  },
  {
   "cell_type": "markdown",
   "id": "6163a641",
   "metadata": {},
   "source": [
    "#### Discussion \n",
    "\n",
    "- Based on WCSS, the optimized number of clusters is 4.\n",
    "- The silhouette score using KMeans is:  0.4329118241119466\n"
   ]
  },
  {
   "cell_type": "markdown",
   "id": "84fafa22",
   "metadata": {},
   "source": [
    "## 2) Perform DBSCAN clustering (use knee locator to help find optimal parameter) on thegiven dataset, display clustering results with graphical visualization, provide anynecessary comments and discussions."
   ]
  },
  {
   "cell_type": "markdown",
   "id": "9d74c1aa",
   "metadata": {},
   "source": [
    "#### Discussion \n",
    "- The optimized parameter for knee is .\n",
    "- The silhouette score using DBSCAN is:  ."
   ]
  },
  {
   "cell_type": "markdown",
   "id": "b3047201",
   "metadata": {},
   "source": [
    "## 3) Conduct comparison studies on the two techniques (K-Means and DBSCAN), with graphical visualization comparisons, discuss your results and decide on whether:"
   ]
  },
  {
   "cell_type": "markdown",
   "id": "3d2b669d",
   "metadata": {},
   "source": [
    "- Graph 1 and Graph 2 shown how the data being clusterized by K-mean and DBSCAN. \n",
    "- Generally silhouette score use to measure the accuracy of model in clustering the data. Basically, The silhouette score of 1 means that the clusters are very dense and nicely separated. The score of 0 means that clusters are overlapping. The score of less than 0 means that data belonging to clusters may be wrong/incorrect.\n",
    "- For this data, we find that the K-Mean have 0.4329118241119466 silhouette score, meanwhile the DBSCAN have 0.2144392865052958. silhouette score.\n",
    "- General understnding of Silhouette score justify that the `K-Means is the better clustering technique for this dataset`\n",
    "- On the other hand based on the figures plotted, the 2 clusters from DBSCAN is best-suited to represent the sinusoidal-like behaviour of the data in comparison with output from K-Means where there are 4 clusters.\n",
    "- Hence, `There’s no clear distinction between the two techniques for this dataset`"
   ]
  },
  {
   "cell_type": "code",
   "execution_count": null,
   "id": "1352e712",
   "metadata": {},
   "outputs": [],
   "source": []
  }
 ],
 "metadata": {
  "kernelspec": {
   "display_name": "Python 3",
   "language": "python",
   "name": "python3"
  },
  "language_info": {
   "codemirror_mode": {
    "name": "ipython",
    "version": 3
   },
   "file_extension": ".py",
   "mimetype": "text/x-python",
   "name": "python",
   "nbconvert_exporter": "python",
   "pygments_lexer": "ipython3",
   "version": "3.11.3"
  },
  "vscode": {
   "interpreter": {
    "hash": "4193a4ea11622dac8bd0275eb1ed05b69733ca41ddd6810da14f46e80dd462f7"
   }
  }
 },
 "nbformat": 4,
 "nbformat_minor": 5
}
